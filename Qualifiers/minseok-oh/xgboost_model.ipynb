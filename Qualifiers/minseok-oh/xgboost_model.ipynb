{
 "cells": [
  {
   "cell_type": "code",
   "execution_count": 1,
   "metadata": {},
   "outputs": [
    {
     "name": "stdout",
     "output_type": "stream",
     "text": [
      "Requirement already satisfied: sklearn in c:\\users\\home\\appdata\\local\\programs\\python\\python310\\lib\\site-packages (0.0)\n",
      "Requirement already satisfied: scikit-learn in c:\\users\\home\\appdata\\local\\programs\\python\\python310\\lib\\site-packages (from sklearn) (1.1.1)\n",
      "Requirement already satisfied: joblib>=1.0.0 in c:\\users\\home\\appdata\\local\\programs\\python\\python310\\lib\\site-packages (from scikit-learn->sklearn) (1.1.0)\n",
      "Requirement already satisfied: threadpoolctl>=2.0.0 in c:\\users\\home\\appdata\\local\\programs\\python\\python310\\lib\\site-packages (from scikit-learn->sklearn) (3.1.0)\n",
      "Requirement already satisfied: numpy>=1.17.3 in c:\\users\\home\\appdata\\local\\programs\\python\\python310\\lib\\site-packages (from scikit-learn->sklearn) (1.23.1)\n",
      "Requirement already satisfied: scipy>=1.3.2 in c:\\users\\home\\appdata\\local\\programs\\python\\python310\\lib\\site-packages (from scikit-learn->sklearn) (1.8.1)\n",
      "Note: you may need to restart the kernel to use updated packages.\n",
      "Requirement already satisfied: xgboost in c:\\users\\home\\appdata\\local\\programs\\python\\python310\\lib\\site-packages (1.6.1)\n",
      "Requirement already satisfied: numpy in c:\\users\\home\\appdata\\local\\programs\\python\\python310\\lib\\site-packages (from xgboost) (1.23.1)\n",
      "Requirement already satisfied: scipy in c:\\users\\home\\appdata\\local\\programs\\python\\python310\\lib\\site-packages (from xgboost) (1.8.1)\n",
      "Note: you may need to restart the kernel to use updated packages.\n"
     ]
    }
   ],
   "source": [
    "%pip install sklearn\n",
    "%pip install xgboost"
   ]
  },
  {
   "cell_type": "code",
   "execution_count": 36,
   "metadata": {},
   "outputs": [],
   "source": [
    "import pandas as pd\n",
    "from sklearn.model_selection import train_test_split\n",
    "\n",
    "df = pd.read_csv('../data/train.csv')"
   ]
  },
  {
   "cell_type": "code",
   "execution_count": 37,
   "metadata": {},
   "outputs": [
    {
     "name": "stdout",
     "output_type": "stream",
     "text": [
      "country\n"
     ]
    }
   ],
   "source": [
    "for i, col in enumerate(df.columns):\n",
    "    try:\n",
    "        df.loc[:, col] = df.loc[:, col].fillna(df[col].mean())\n",
    "    except:\n",
    "        print(col)"
   ]
  },
  {
   "cell_type": "code",
   "execution_count": 38,
   "metadata": {},
   "outputs": [
    {
     "name": "stdout",
     "output_type": "stream",
     "text": [
      "<class 'pandas.core.frame.DataFrame'>\n",
      "RangeIndex: 15000 entries, 0 to 14999\n",
      "Data columns (total 70 columns):\n",
      " #   Column        Non-Null Count  Dtype  \n",
      "---  ------        --------------  -----  \n",
      " 0   index         15000 non-null  int64  \n",
      " 1   Q1            15000 non-null  float64\n",
      " 2   Q2            15000 non-null  float64\n",
      " 3   Q3            15000 non-null  float64\n",
      " 4   Q4            15000 non-null  float64\n",
      " 5   Q5            15000 non-null  float64\n",
      " 6   Q6            15000 non-null  float64\n",
      " 7   Q7            15000 non-null  float64\n",
      " 8   Q8            15000 non-null  float64\n",
      " 9   Q9            15000 non-null  float64\n",
      " 10  Q10           15000 non-null  float64\n",
      " 11  Q11           15000 non-null  float64\n",
      " 12  Q12           15000 non-null  float64\n",
      " 13  Q13           15000 non-null  float64\n",
      " 14  Q14           15000 non-null  float64\n",
      " 15  Q15           15000 non-null  float64\n",
      " 16  Q16           15000 non-null  float64\n",
      " 17  Q17           15000 non-null  float64\n",
      " 18  Q18           15000 non-null  float64\n",
      " 19  Q19           15000 non-null  float64\n",
      " 20  Q20           15000 non-null  float64\n",
      " 21  Q21           15000 non-null  float64\n",
      " 22  Q22           15000 non-null  float64\n",
      " 23  Q23           15000 non-null  float64\n",
      " 24  Q24           15000 non-null  float64\n",
      " 25  Q25           15000 non-null  float64\n",
      " 26  Q26           15000 non-null  float64\n",
      " 27  country       14810 non-null  object \n",
      " 28  introelapse   15000 non-null  int64  \n",
      " 29  testelapse    15000 non-null  int64  \n",
      " 30  surveyelapse  15000 non-null  int64  \n",
      " 31  TIPI1         15000 non-null  float64\n",
      " 32  TIPI2         15000 non-null  float64\n",
      " 33  TIPI3         15000 non-null  float64\n",
      " 34  TIPI4         15000 non-null  float64\n",
      " 35  TIPI5         15000 non-null  float64\n",
      " 36  TIPI6         15000 non-null  float64\n",
      " 37  TIPI7         15000 non-null  float64\n",
      " 38  TIPI8         15000 non-null  float64\n",
      " 39  TIPI9         15000 non-null  float64\n",
      " 40  TIPI10        15000 non-null  float64\n",
      " 41  VCL1          15000 non-null  int64  \n",
      " 42  VCL2          15000 non-null  int64  \n",
      " 43  VCL3          15000 non-null  int64  \n",
      " 44  VCL4          15000 non-null  int64  \n",
      " 45  VCL5          15000 non-null  int64  \n",
      " 46  VCL6          15000 non-null  int64  \n",
      " 47  VCL7          15000 non-null  int64  \n",
      " 48  VCL8          15000 non-null  int64  \n",
      " 49  VCL9          15000 non-null  int64  \n",
      " 50  VCL10         15000 non-null  int64  \n",
      " 51  VCL11         15000 non-null  int64  \n",
      " 52  VCL12         15000 non-null  int64  \n",
      " 53  VCL13         15000 non-null  int64  \n",
      " 54  VCL14         15000 non-null  int64  \n",
      " 55  VCL15         15000 non-null  int64  \n",
      " 56  VCL16         15000 non-null  int64  \n",
      " 57  education     15000 non-null  float64\n",
      " 58  urban         15000 non-null  int64  \n",
      " 59  gender        15000 non-null  float64\n",
      " 60  engnat        15000 non-null  float64\n",
      " 61  age           15000 non-null  int64  \n",
      " 62  hand          15000 non-null  float64\n",
      " 63  religion      15000 non-null  float64\n",
      " 64  orientation   15000 non-null  float64\n",
      " 65  voted         15000 non-null  float64\n",
      " 66  married       15000 non-null  float64\n",
      " 67  familysize    15000 non-null  float64\n",
      " 68  ASD           15000 non-null  float64\n",
      " 69  nerdiness     15000 non-null  int64  \n",
      "dtypes: float64(46), int64(23), object(1)\n",
      "memory usage: 8.0+ MB\n"
     ]
    }
   ],
   "source": [
    "df.info()"
   ]
  },
  {
   "cell_type": "code",
   "execution_count": 39,
   "metadata": {},
   "outputs": [],
   "source": [
    "target = df.loc[:, 'nerdiness']\n",
    "df = df.drop(columns=['country', 'nerdiness'])\n",
    "\n",
    "x_train, x_test, y_train, y_test = \\\n",
    "    train_test_split(df, target, test_size=0.3, shuffle=True, random_state=23)"
   ]
  },
  {
   "cell_type": "code",
   "execution_count": 40,
   "metadata": {},
   "outputs": [
    {
     "name": "stdout",
     "output_type": "stream",
     "text": [
      "[11:35:53] WARNING: C:/Users/Administrator/workspace/xgboost-win64_release_1.6.0/src/learner.cc:627: \n",
      "Parameters: { \"eval_matric\" } might not be used.\n",
      "\n",
      "  This could be a false alarm, with some parameters getting used by language bindings but\n",
      "  then being mistakenly passed down to XGBoost core, or some parameter actually being used\n",
      "  but getting flagged wrongly here. Please open an issue if you find any such cases.\n",
      "\n",
      "\n",
      "[0]\tvalidation_0-logloss:0.63399\n",
      "[1]\tvalidation_0-logloss:0.60144\n",
      "[2]\tvalidation_0-logloss:0.58144\n",
      "[3]\tvalidation_0-logloss:0.56556\n",
      "[4]\tvalidation_0-logloss:0.55454\n",
      "[5]\tvalidation_0-logloss:0.54755\n",
      "[6]\tvalidation_0-logloss:0.54010\n",
      "[7]\tvalidation_0-logloss:0.53504\n",
      "[8]\tvalidation_0-logloss:0.53170\n",
      "[9]\tvalidation_0-logloss:0.52955\n",
      "[10]\tvalidation_0-logloss:0.52858\n",
      "[11]\tvalidation_0-logloss:0.52764\n",
      "[12]\tvalidation_0-logloss:0.52530\n",
      "[13]\tvalidation_0-logloss:0.52407\n",
      "[14]\tvalidation_0-logloss:0.52302\n",
      "[15]\tvalidation_0-logloss:0.52270\n",
      "[16]\tvalidation_0-logloss:0.52213\n",
      "[17]\tvalidation_0-logloss:0.52128\n",
      "[18]\tvalidation_0-logloss:0.52083\n",
      "[19]\tvalidation_0-logloss:0.52153\n",
      "[20]\tvalidation_0-logloss:0.52070\n",
      "[21]\tvalidation_0-logloss:0.52036\n",
      "[22]\tvalidation_0-logloss:0.52031\n",
      "[23]\tvalidation_0-logloss:0.52024\n",
      "[24]\tvalidation_0-logloss:0.51964\n",
      "[25]\tvalidation_0-logloss:0.51840\n",
      "[26]\tvalidation_0-logloss:0.51826\n"
     ]
    },
    {
     "name": "stderr",
     "output_type": "stream",
     "text": [
      "c:\\Users\\Home\\AppData\\Local\\Programs\\Python\\Python310\\lib\\site-packages\\xgboost\\sklearn.py:793: UserWarning: `early_stopping_rounds` in `fit` method is deprecated for better compatibility with scikit-learn, use `early_stopping_rounds` in constructor or`set_params` instead.\n",
      "  warnings.warn(\n"
     ]
    },
    {
     "name": "stdout",
     "output_type": "stream",
     "text": [
      "[27]\tvalidation_0-logloss:0.51835\n",
      "[28]\tvalidation_0-logloss:0.51841\n",
      "[29]\tvalidation_0-logloss:0.51775\n",
      "[30]\tvalidation_0-logloss:0.51751\n",
      "[31]\tvalidation_0-logloss:0.51733\n",
      "[32]\tvalidation_0-logloss:0.51696\n",
      "[33]\tvalidation_0-logloss:0.51852\n",
      "[34]\tvalidation_0-logloss:0.51866\n",
      "[35]\tvalidation_0-logloss:0.51902\n",
      "[36]\tvalidation_0-logloss:0.51821\n",
      "[37]\tvalidation_0-logloss:0.51938\n",
      "[38]\tvalidation_0-logloss:0.51937\n",
      "[39]\tvalidation_0-logloss:0.51854\n",
      "[40]\tvalidation_0-logloss:0.51816\n",
      "[41]\tvalidation_0-logloss:0.51816\n",
      "[42]\tvalidation_0-logloss:0.51832\n",
      "[43]\tvalidation_0-logloss:0.51816\n",
      "[44]\tvalidation_0-logloss:0.51802\n",
      "[45]\tvalidation_0-logloss:0.51759\n",
      "[46]\tvalidation_0-logloss:0.51832\n",
      "[47]\tvalidation_0-logloss:0.51856\n",
      "[48]\tvalidation_0-logloss:0.51792\n",
      "[49]\tvalidation_0-logloss:0.51791\n",
      "[50]\tvalidation_0-logloss:0.51808\n",
      "[51]\tvalidation_0-logloss:0.51804\n",
      "[52]\tvalidation_0-logloss:0.51732\n",
      "[53]\tvalidation_0-logloss:0.51744\n",
      "[54]\tvalidation_0-logloss:0.51682\n",
      "[55]\tvalidation_0-logloss:0.51710\n",
      "[56]\tvalidation_0-logloss:0.51739\n",
      "[57]\tvalidation_0-logloss:0.51777\n",
      "[58]\tvalidation_0-logloss:0.51794\n",
      "[59]\tvalidation_0-logloss:0.51865\n",
      "[60]\tvalidation_0-logloss:0.51948\n",
      "[61]\tvalidation_0-logloss:0.51881\n",
      "[62]\tvalidation_0-logloss:0.51869\n",
      "[63]\tvalidation_0-logloss:0.51753\n",
      "[64]\tvalidation_0-logloss:0.51753\n",
      "[65]\tvalidation_0-logloss:0.51820\n",
      "[66]\tvalidation_0-logloss:0.51800\n",
      "[67]\tvalidation_0-logloss:0.51811\n",
      "[68]\tvalidation_0-logloss:0.51764\n",
      "[69]\tvalidation_0-logloss:0.51798\n",
      "[70]\tvalidation_0-logloss:0.51799\n",
      "[71]\tvalidation_0-logloss:0.51819\n",
      "[72]\tvalidation_0-logloss:0.51808\n",
      "[73]\tvalidation_0-logloss:0.51834\n",
      "[74]\tvalidation_0-logloss:0.51809\n",
      "[75]\tvalidation_0-logloss:0.51855\n",
      "[76]\tvalidation_0-logloss:0.51918\n",
      "[77]\tvalidation_0-logloss:0.51867\n",
      "[78]\tvalidation_0-logloss:0.51878\n",
      "[79]\tvalidation_0-logloss:0.52032\n",
      "[80]\tvalidation_0-logloss:0.52074\n",
      "[81]\tvalidation_0-logloss:0.52153\n",
      "[82]\tvalidation_0-logloss:0.52102\n",
      "[83]\tvalidation_0-logloss:0.52111\n",
      "[84]\tvalidation_0-logloss:0.52109\n",
      "[85]\tvalidation_0-logloss:0.52116\n",
      "[86]\tvalidation_0-logloss:0.52132\n",
      "[87]\tvalidation_0-logloss:0.52027\n",
      "[88]\tvalidation_0-logloss:0.52048\n",
      "[89]\tvalidation_0-logloss:0.52146\n",
      "[90]\tvalidation_0-logloss:0.52192\n",
      "[91]\tvalidation_0-logloss:0.52199\n",
      "[92]\tvalidation_0-logloss:0.52194\n",
      "[93]\tvalidation_0-logloss:0.52141\n",
      "[94]\tvalidation_0-logloss:0.52064\n",
      "[95]\tvalidation_0-logloss:0.52088\n",
      "[96]\tvalidation_0-logloss:0.52043\n",
      "[97]\tvalidation_0-logloss:0.51956\n",
      "[98]\tvalidation_0-logloss:0.51924\n",
      "[99]\tvalidation_0-logloss:0.51914\n",
      "[100]\tvalidation_0-logloss:0.51962\n",
      "[101]\tvalidation_0-logloss:0.51979\n",
      "[102]\tvalidation_0-logloss:0.52111\n",
      "[103]\tvalidation_0-logloss:0.52162\n",
      "[104]\tvalidation_0-logloss:0.52197\n",
      "[105]\tvalidation_0-logloss:0.52227\n",
      "[106]\tvalidation_0-logloss:0.52254\n",
      "[107]\tvalidation_0-logloss:0.52297\n",
      "[108]\tvalidation_0-logloss:0.52348\n",
      "[109]\tvalidation_0-logloss:0.52276\n",
      "[110]\tvalidation_0-logloss:0.52294\n",
      "[111]\tvalidation_0-logloss:0.52353\n",
      "[112]\tvalidation_0-logloss:0.52384\n",
      "[113]\tvalidation_0-logloss:0.52373\n",
      "[114]\tvalidation_0-logloss:0.52386\n",
      "[115]\tvalidation_0-logloss:0.52395\n",
      "[116]\tvalidation_0-logloss:0.52442\n",
      "[117]\tvalidation_0-logloss:0.52523\n",
      "[118]\tvalidation_0-logloss:0.52524\n",
      "[119]\tvalidation_0-logloss:0.52520\n",
      "[120]\tvalidation_0-logloss:0.52554\n",
      "[121]\tvalidation_0-logloss:0.52599\n",
      "[122]\tvalidation_0-logloss:0.52543\n",
      "[123]\tvalidation_0-logloss:0.52649\n",
      "[124]\tvalidation_0-logloss:0.52659\n",
      "[125]\tvalidation_0-logloss:0.52668\n",
      "[126]\tvalidation_0-logloss:0.52724\n",
      "[127]\tvalidation_0-logloss:0.52809\n",
      "[128]\tvalidation_0-logloss:0.52875\n",
      "[129]\tvalidation_0-logloss:0.52904\n",
      "[130]\tvalidation_0-logloss:0.52965\n",
      "[131]\tvalidation_0-logloss:0.53013\n",
      "[132]\tvalidation_0-logloss:0.53032\n",
      "[133]\tvalidation_0-logloss:0.53047\n",
      "[134]\tvalidation_0-logloss:0.53052\n",
      "[135]\tvalidation_0-logloss:0.53067\n",
      "[136]\tvalidation_0-logloss:0.53064\n",
      "[137]\tvalidation_0-logloss:0.53056\n",
      "[138]\tvalidation_0-logloss:0.53083\n",
      "[139]\tvalidation_0-logloss:0.53095\n",
      "[140]\tvalidation_0-logloss:0.53097\n",
      "[141]\tvalidation_0-logloss:0.53129\n",
      "[142]\tvalidation_0-logloss:0.53184\n",
      "[143]\tvalidation_0-logloss:0.53210\n",
      "[144]\tvalidation_0-logloss:0.53216\n",
      "[145]\tvalidation_0-logloss:0.53205\n",
      "[146]\tvalidation_0-logloss:0.53270\n",
      "[147]\tvalidation_0-logloss:0.53279\n",
      "[148]\tvalidation_0-logloss:0.53304\n",
      "[149]\tvalidation_0-logloss:0.53338\n",
      "[150]\tvalidation_0-logloss:0.53346\n",
      "[151]\tvalidation_0-logloss:0.53413\n",
      "[152]\tvalidation_0-logloss:0.53418\n",
      "[153]\tvalidation_0-logloss:0.53454\n",
      "[154]\tvalidation_0-logloss:0.53444\n"
     ]
    }
   ],
   "source": [
    "from xgboost import XGBClassifier\n",
    "\n",
    "model = XGBClassifier(n_estimators=1000, eval_matric=\"logloss\")\n",
    "xgb_model = model.fit(x_train, y_train, early_stopping_rounds=100, \n",
    "                eval_set=[(x_test, y_test)])\n",
    "\n",
    "y_pre = xgb_model.predict(x_test)\n",
    "y_pred_probs = xgb_model.predict_proba(x_test)[:, 1]"
   ]
  },
  {
   "cell_type": "code",
   "execution_count": 41,
   "metadata": {},
   "outputs": [
    {
     "name": "stdout",
     "output_type": "stream",
     "text": [
      "[1 0 1 ... 1 1 1]\n",
      "0.55310124\n"
     ]
    }
   ],
   "source": [
    "print(y_pre)\n",
    "print(y_pred_probs.mean())"
   ]
  },
  {
   "cell_type": "code",
   "execution_count": 42,
   "metadata": {},
   "outputs": [
    {
     "data": {
      "text/plain": [
       "<AxesSubplot:title={'center':'Feature importance'}, xlabel='F score', ylabel='Features'>"
      ]
     },
     "execution_count": 42,
     "metadata": {},
     "output_type": "execute_result"
    },
    {
     "data": {
      "image/png": "[encoded data removed]",
      "text/plain": [
       "<Figure size 720x864 with 1 Axes>"
      ]
     },
     "metadata": {
      "needs_background": "light"
     },
     "output_type": "display_data"
    }
   ],
   "source": [
    "import matplotlib.pyplot as plt\n",
    "from xgboost import plot_importance\n",
    "\n",
    "f, ax = plt.subplots(figsize=(10, 12))\n",
    "plot_importance(xgb_model, ax=ax)"
   ]
  },
  {
   "cell_type": "code",
   "execution_count": 47,
   "metadata": {},
   "outputs": [],
   "source": [
    "test_df = df.loc[:, ['surveyelapse', 'testelapse', 'introelapse', 'age',\n",
    "                'religion']]\n",
    "\n",
    "x_train, x_test, y_train, y_test = \\\n",
    "    train_test_split(test_df, target, test_size=0.2, random_state=23)"
   ]
  },
  {
   "cell_type": "code",
   "execution_count": 48,
   "metadata": {},
   "outputs": [
    {
     "name": "stdout",
     "output_type": "stream",
     "text": [
      "[12:08:31] WARNING: C:/Users/Administrator/workspace/xgboost-win64_release_1.6.0/src/learner.cc:627: \n",
      "Parameters: { \"eval_matric\" } might not be used.\n",
      "\n",
      "  This could be a false alarm, with some parameters getting used by language bindings but\n",
      "  then being mistakenly passed down to XGBoost core, or some parameter actually being used\n",
      "  but getting flagged wrongly here. Please open an issue if you find any such cases.\n",
      "\n",
      "\n",
      "[0]\tvalidation_0-logloss:0.68506\n",
      "[1]\tvalidation_0-logloss:0.67989\n",
      "[2]\tvalidation_0-logloss:0.67749\n",
      "[3]\tvalidation_0-logloss:0.67538\n",
      "[4]\tvalidation_0-logloss:0.67504\n",
      "[5]\tvalidation_0-logloss:0.67289\n",
      "[6]\tvalidation_0-logloss:0.67229\n",
      "[7]\tvalidation_0-logloss:0.67251\n",
      "[8]\tvalidation_0-logloss:0.67174\n",
      "[9]\tvalidation_0-logloss:0.67076\n",
      "[10]\tvalidation_0-logloss:0.67047\n",
      "[11]\tvalidation_0-logloss:0.66892\n",
      "[12]\tvalidation_0-logloss:0.66922\n",
      "[13]\tvalidation_0-logloss:0.66969\n",
      "[14]\tvalidation_0-logloss:0.67019\n",
      "[15]\tvalidation_0-logloss:0.67018\n",
      "[16]\tvalidation_0-logloss:0.67007\n",
      "[17]\tvalidation_0-logloss:0.67080\n",
      "[18]\tvalidation_0-logloss:0.67130\n",
      "[19]\tvalidation_0-logloss:0.67084\n",
      "[20]\tvalidation_0-logloss:0.67111\n",
      "[21]\tvalidation_0-logloss:0.67176\n",
      "[22]\tvalidation_0-logloss:0.67115\n",
      "[23]\tvalidation_0-logloss:0.67175\n",
      "[24]\tvalidation_0-logloss:0.67196\n",
      "[25]\tvalidation_0-logloss:0.67169\n",
      "[26]\tvalidation_0-logloss:0.67161\n",
      "[27]\tvalidation_0-logloss:0.67214\n",
      "[28]\tvalidation_0-logloss:0.67291\n",
      "[29]\tvalidation_0-logloss:0.67337\n",
      "[30]\tvalidation_0-logloss:0.67357\n",
      "[31]\tvalidation_0-logloss:0.67381\n",
      "[32]\tvalidation_0-logloss:0.67338\n",
      "[33]\tvalidation_0-logloss:0.67315\n",
      "[34]\tvalidation_0-logloss:0.67378\n",
      "[35]\tvalidation_0-logloss:0.67373\n",
      "[36]\tvalidation_0-logloss:0.67216\n",
      "[37]\tvalidation_0-logloss:0.67259\n",
      "[38]\tvalidation_0-logloss:0.67266\n",
      "[39]\tvalidation_0-logloss:0.67267\n",
      "[40]\tvalidation_0-logloss:0.67218\n",
      "[41]\tvalidation_0-logloss:0.67225\n",
      "[42]\tvalidation_0-logloss:0.67230\n",
      "[43]\tvalidation_0-logloss:0.67233\n",
      "[44]\tvalidation_0-logloss:0.67263\n",
      "[45]\tvalidation_0-logloss:0.67255\n",
      "[46]\tvalidation_0-logloss:0.67258\n",
      "[47]\tvalidation_0-logloss:0.67326\n",
      "[48]\tvalidation_0-logloss:0.67313\n",
      "[49]\tvalidation_0-logloss:0.67303\n",
      "[50]\tvalidation_0-logloss:0.67272\n",
      "[51]\tvalidation_0-logloss:0.67272\n",
      "[52]\tvalidation_0-logloss:0.67322\n",
      "[53]\tvalidation_0-logloss:0.67384\n",
      "[54]\tvalidation_0-logloss:0.67432\n",
      "[55]\tvalidation_0-logloss:0.67460\n",
      "[56]\tvalidation_0-logloss:0.67496\n",
      "[57]\tvalidation_0-logloss:0.67537\n",
      "[58]\tvalidation_0-logloss:0.67578\n",
      "[59]\tvalidation_0-logloss:0.67599\n",
      "[60]\tvalidation_0-logloss:0.67606\n",
      "[61]\tvalidation_0-logloss:0.67586\n",
      "[62]\tvalidation_0-logloss:0.67579\n",
      "[63]\tvalidation_0-logloss:0.67584\n",
      "[64]\tvalidation_0-logloss:0.67637\n",
      "[65]\tvalidation_0-logloss:0.67751\n",
      "[66]\tvalidation_0-logloss:0.67737\n",
      "[67]\tvalidation_0-logloss:0.67668\n",
      "[68]\tvalidation_0-logloss:0.67711\n",
      "[69]\tvalidation_0-logloss:0.67720\n",
      "[70]\tvalidation_0-logloss:0.67723\n",
      "[71]\tvalidation_0-logloss:0.67719\n",
      "[72]\tvalidation_0-logloss:0.67694\n",
      "[73]\tvalidation_0-logloss:0.67733\n",
      "[74]\tvalidation_0-logloss:0.67659\n",
      "[75]\tvalidation_0-logloss:0.67745\n",
      "[76]\tvalidation_0-logloss:0.67754\n",
      "[77]\tvalidation_0-logloss:0.67779\n",
      "[78]\tvalidation_0-logloss:0.67754\n",
      "[79]\tvalidation_0-logloss:0.67787\n"
     ]
    },
    {
     "name": "stderr",
     "output_type": "stream",
     "text": [
      "c:\\Users\\Home\\AppData\\Local\\Programs\\Python\\Python310\\lib\\site-packages\\xgboost\\sklearn.py:793: UserWarning: `early_stopping_rounds` in `fit` method is deprecated for better compatibility with scikit-learn, use `early_stopping_rounds` in constructor or`set_params` instead.\n",
      "  warnings.warn(\n"
     ]
    },
    {
     "name": "stdout",
     "output_type": "stream",
     "text": [
      "[80]\tvalidation_0-logloss:0.67809\n",
      "[81]\tvalidation_0-logloss:0.67808\n",
      "[82]\tvalidation_0-logloss:0.67777\n",
      "[83]\tvalidation_0-logloss:0.67825\n",
      "[84]\tvalidation_0-logloss:0.67846\n",
      "[85]\tvalidation_0-logloss:0.67814\n",
      "[86]\tvalidation_0-logloss:0.67872\n",
      "[87]\tvalidation_0-logloss:0.67893\n",
      "[88]\tvalidation_0-logloss:0.67972\n",
      "[89]\tvalidation_0-logloss:0.67976\n",
      "[90]\tvalidation_0-logloss:0.67968\n",
      "[91]\tvalidation_0-logloss:0.67980\n",
      "[92]\tvalidation_0-logloss:0.67969\n",
      "[93]\tvalidation_0-logloss:0.67999\n",
      "[94]\tvalidation_0-logloss:0.68021\n",
      "[95]\tvalidation_0-logloss:0.68006\n",
      "[96]\tvalidation_0-logloss:0.67981\n",
      "[97]\tvalidation_0-logloss:0.68006\n",
      "[98]\tvalidation_0-logloss:0.67994\n",
      "[99]\tvalidation_0-logloss:0.67967\n",
      "[100]\tvalidation_0-logloss:0.67976\n",
      "[101]\tvalidation_0-logloss:0.68005\n",
      "[102]\tvalidation_0-logloss:0.68013\n",
      "[103]\tvalidation_0-logloss:0.68055\n",
      "[104]\tvalidation_0-logloss:0.68071\n",
      "[105]\tvalidation_0-logloss:0.68064\n",
      "[106]\tvalidation_0-logloss:0.68057\n",
      "[107]\tvalidation_0-logloss:0.68049\n",
      "[108]\tvalidation_0-logloss:0.68074\n",
      "[109]\tvalidation_0-logloss:0.68095\n",
      "[110]\tvalidation_0-logloss:0.68054\n",
      "[1 1 0 ... 0 1 0]\n",
      "0.5541361\n"
     ]
    }
   ],
   "source": [
    "test_xgb_model = model.fit(x_train, y_train, early_stopping_rounds=100, \n",
    "                eval_set=[(x_test, y_test)])\n",
    "\n",
    "test_pre = test_xgb_model.predict(x_test)\n",
    "test_y_pred_probs = xgb_model.predict_proba(x_test)[:, 1]\n",
    "print(test_pre)\n",
    "print(test_y_pred_probs.mean())"
   ]
  },
  {
   "cell_type": "code",
   "execution_count": 49,
   "metadata": {},
   "outputs": [
    {
     "data": {
      "text/plain": [
       "<AxesSubplot:title={'center':'Feature importance'}, xlabel='F score', ylabel='Features'>"
      ]
     },
     "execution_count": 49,
     "metadata": {},
     "output_type": "execute_result"
    },
    {
     "data": {
      "image/png": "[encoded data removed]",
      "text/plain": [
       "<Figure size 720x864 with 1 Axes>"
      ]
     },
     "metadata": {
      "needs_background": "light"
     },
     "output_type": "display_data"
    }
   ],
   "source": [
    "f, ax = plt.subplots(figsize=(10, 12))\n",
    "plot_importance(test_xgb_model, ax=ax)"
   ]
  },
  {
   "cell_type": "code",
   "execution_count": 55,
   "metadata": {},
   "outputs": [
    {
     "name": "stdout",
     "output_type": "stream",
     "text": [
      "[1 1 1 ... 1 1 0]\n"
     ]
    }
   ],
   "source": [
    "test_data = pd.read_csv('../data/test.csv')\n",
    "test_data = test_data.loc[:, ['surveyelapse', 'testelapse', 'introelapse', 'age',\n",
    "                'religion']]\n",
    "submission = test_xgb_model.predict(test_data)\n",
    "print(submission)"
   ]
  },
  {
   "cell_type": "code",
   "execution_count": 67,
   "metadata": {},
   "outputs": [],
   "source": [
    "submisson = pd.DataFrame(data=submission)\n",
    "submisson.to_csv('./submission1.csv')"
   ]
  }
 ],
 "metadata": {
  "kernelspec": {
   "display_name": "Python 3.10.4 64-bit",
   "language": "python",
   "name": "python3"
  },
  "language_info": {
   "codemirror_mode": {
    "name": "ipython",
    "version": 3
   },
   "file_extension": ".py",
   "mimetype": "text/x-python",
   "name": "python",
   "nbconvert_exporter": "python",
   "pygments_lexer": "ipython3",
   "version": "3.10.4"
  },
  "orig_nbformat": 4,
  "vscode": {
   "interpreter": {
    "hash": "bb33f6d328f18c07440802b8c66874c52744b86bff5cfe8eb1d71afeb55a2150"
   }
  }
 },
 "nbformat": 4,
 "nbformat_minor": 2
}
